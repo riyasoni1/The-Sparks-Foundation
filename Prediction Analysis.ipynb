{
 "cells": [
  {
   "cell_type": "markdown",
   "id": "5d330680",
   "metadata": {},
   "source": [
    "# Author : Riya Soni\n",
    "\n",
    "## Task 1 : Prediction using Supervised Machine Learning\n",
    "\n",
    "### GRIP @ The Sparks Foundation"
   ]
  },
  {
   "cell_type": "markdown",
   "id": "ee076966",
   "metadata": {},
   "source": [
    "### Objective: \n",
    "<br>\n",
    "I tried to predict the percentage of marks that a student is expected to score based upon the number of hours they studied.\n",
    "<br>\n",
    "This shows it is a simple linear Regression task as it involves just two variables."
   ]
  },
  {
   "cell_type": "markdown",
   "id": "339367e5",
   "metadata": {},
   "source": [
    "#### Technical Stack"
   ]
  },
  {
   "cell_type": "code",
   "execution_count": 40,
   "id": "160314c4",
   "metadata": {},
   "outputs": [],
   "source": [
    "#importing all the required libraries\n",
    "\n",
    "import pandas as pd \n",
    "import numpy as np\n",
    "\n",
    "#Basic Visualization\n",
    "import matplotlib.pyplot as plt \n",
    "\n",
    "#Model Trainig and Evaluating\n",
    "from sklearn.model_selection import train_test_split\n",
    "from sklearn.linear_model import LinearRegression\n",
    "from sklearn import metrics"
   ]
  },
  {
   "cell_type": "markdown",
   "id": "c8867fe9",
   "metadata": {},
   "source": [
    "### Reading and Manipulating dataset"
   ]
  },
  {
   "cell_type": "code",
   "execution_count": 109,
   "id": "8bce59ba",
   "metadata": {},
   "outputs": [
    {
     "name": "stdout",
     "output_type": "stream",
     "text": [
      "    Hours  Scores\n",
      "0     2.5      21\n",
      "1     5.1      47\n",
      "2     3.2      27\n",
      "3     8.5      75\n",
      "4     3.5      30\n",
      "5     1.5      20\n",
      "6     9.2      88\n",
      "7     5.5      60\n",
      "8     8.3      81\n",
      "9     2.7      25\n",
      "10    7.7      85\n",
      "11    5.9      62\n",
      "12    4.5      41\n",
      "13    3.3      42\n",
      "14    1.1      17\n",
      "15    8.9      95\n",
      "16    2.5      30\n",
      "17    1.9      24\n",
      "18    6.1      67\n",
      "19    7.4      69\n",
      "20    2.7      30\n",
      "21    4.8      54\n",
      "22    3.8      35\n",
      "23    6.9      76\n",
      "24    7.8      86\n"
     ]
    }
   ],
   "source": [
    "#fetching dataset\n",
    "file = 'study.csv'\n",
    "\n",
    "#Reading\n",
    "rfile = pd.read_csv(file)\n",
    "\n",
    "#Printing\n",
    "print(rfile) #or rfile.head()"
   ]
  },
  {
   "cell_type": "markdown",
   "id": "d6073afb",
   "metadata": {},
   "source": [
    "### Data Visualization"
   ]
  },
  {
   "cell_type": "code",
   "execution_count": 110,
   "id": "afddef27",
   "metadata": {},
   "outputs": [
    {
     "data": {
      "image/png": "[encoded data removed]",
      "text/plain": [
       "<Figure size 432x288 with 1 Axes>"
      ]
     },
     "metadata": {
      "needs_background": "light"
     },
     "output_type": "display_data"
    }
   ],
   "source": [
    "#Plotting the distribution of scores\n",
    "rfile.plot(x = 'Hours',y = 'Scores', style = 'o')\n",
    "plt.xlabel('Hours')\n",
    "plt.ylabel('Scores')\n",
    "plt.title('Hours vs Scores')\n",
    "plt.show()"
   ]
  },
  {
   "cell_type": "markdown",
   "id": "f078287f",
   "metadata": {},
   "source": [
    "From the above graph, I have assume the relation between number of hours studied and percentage of score is **Positive Linear Relation**"
   ]
  },
  {
   "cell_type": "markdown",
   "id": "d7235d68",
   "metadata": {},
   "source": [
    "### Data Preprocessing\n",
    "<br>\n",
    "\n",
    "Here, I have divide the data in two formats - **(Attributes) Inputs** and **(labels) Output**"
   ]
  },
  {
   "cell_type": "code",
   "execution_count": 111,
   "id": "04748a7b",
   "metadata": {},
   "outputs": [],
   "source": [
    "#Reshaping 1D array to 2D array for Model\n",
    "x = rfile.iloc[:, :-1].values \n",
    "y = rfile.iloc[:, 1].values"
   ]
  },
  {
   "cell_type": "code",
   "execution_count": 112,
   "id": "5d834d54",
   "metadata": {},
   "outputs": [
    {
     "name": "stdout",
     "output_type": "stream",
     "text": [
      "[[2.5]\n",
      " [5.1]\n",
      " [3.2]\n",
      " [8.5]\n",
      " [3.5]\n",
      " [1.5]\n",
      " [9.2]\n",
      " [5.5]\n",
      " [8.3]\n",
      " [2.7]\n",
      " [7.7]\n",
      " [5.9]\n",
      " [4.5]\n",
      " [3.3]\n",
      " [1.1]\n",
      " [8.9]\n",
      " [2.5]\n",
      " [1.9]\n",
      " [6.1]\n",
      " [7.4]\n",
      " [2.7]\n",
      " [4.8]\n",
      " [3.8]\n",
      " [6.9]\n",
      " [7.8]]\n"
     ]
    }
   ],
   "source": [
    "print(x)"
   ]
  },
  {
   "cell_type": "code",
   "execution_count": 68,
   "id": "a4177c92",
   "metadata": {},
   "outputs": [
    {
     "name": "stdout",
     "output_type": "stream",
     "text": [
      "[21 47 27 75 30 20 88 60 81 25 85 62 41 42 17 95 30 24 67 69 30 54 35 76\n",
      " 86]\n"
     ]
    }
   ],
   "source": [
    "print(y)"
   ]
  },
  {
   "cell_type": "markdown",
   "id": "31254b80",
   "metadata": {},
   "source": [
    "### Model Training\n",
    "<br>\n",
    "I have split the data in two sets : <b>Training</b> and <b>Testing</b>  to test the machine learning algorithm based on <i>supervised learning.</i>"
   ]
  },
  {
   "cell_type": "code",
   "execution_count": 113,
   "id": "b741fe69",
   "metadata": {},
   "outputs": [],
   "source": [
    "#Assigning the data to variables\n",
    "xtrain , xtest, ytrain, ytest = train_test_split(x,y,test_size = 0.2, random_state = 0)"
   ]
  },
  {
   "cell_type": "code",
   "execution_count": 122,
   "id": "785041fe",
   "metadata": {},
   "outputs": [
    {
     "name": "stdout",
     "output_type": "stream",
     "text": [
      "[[3.8]\n",
      " [1.9]\n",
      " [7.8]\n",
      " [6.9]\n",
      " [1.1]\n",
      " [5.1]\n",
      " [7.7]\n",
      " [3.3]\n",
      " [8.3]\n",
      " [9.2]\n",
      " [6.1]\n",
      " [3.5]\n",
      " [2.7]\n",
      " [5.5]\n",
      " [2.7]\n",
      " [8.5]\n",
      " [2.5]\n",
      " [4.8]\n",
      " [8.9]\n",
      " [4.5]] [35 24 86 76 17 47 85 42 81 88 67 30 25 60 30 75 21 54 95 41]\n"
     ]
    }
   ],
   "source": [
    "print(xtrain, ytrain)"
   ]
  },
  {
   "cell_type": "code",
   "execution_count": 121,
   "id": "6320cca7",
   "metadata": {},
   "outputs": [
    {
     "name": "stdout",
     "output_type": "stream",
     "text": [
      "[[1.5]\n",
      " [3.2]\n",
      " [7.4]\n",
      " [2.5]\n",
      " [5.9]] [20 27 69 30 62]\n"
     ]
    }
   ],
   "source": [
    "print(xtest, ytest)"
   ]
  },
  {
   "cell_type": "code",
   "execution_count": 114,
   "id": "d17a1399",
   "metadata": {},
   "outputs": [
    {
     "name": "stdout",
     "output_type": "stream",
     "text": [
      "trained\n"
     ]
    }
   ],
   "source": [
    "regg = LinearRegression()\n",
    "\n",
    "#For accuracy\n",
    "regg.fit(xtrain,ytrain)\n",
    "print('The Algorithm is trained')"
   ]
  },
  {
   "cell_type": "markdown",
   "id": "e42f83c3",
   "metadata": {},
   "source": [
    "### Line of Regression"
   ]
  },
  {
   "cell_type": "code",
   "execution_count": 115,
   "id": "8b14c352",
   "metadata": {},
   "outputs": [],
   "source": [
    "#Plotting Line of Regression\n",
    "line = regg.coef_*x+regg.intercept_"
   ]
  },
  {
   "cell_type": "code",
   "execution_count": 116,
   "id": "f98e44b7",
   "metadata": {},
   "outputs": [
    {
     "data": {
      "image/png": "[encoded data removed]",
      "text/plain": [
       "<Figure size 432x288 with 1 Axes>"
      ]
     },
     "metadata": {
      "needs_background": "light"
     },
     "output_type": "display_data"
    }
   ],
   "source": [
    "#Plotting for the test data\n",
    "plt.scatter(x,y)\n",
    "\n",
    "#Actual Value and Line of Regression\n",
    "plt.plot(x,line, color = \"green\")\n",
    "plt.show()"
   ]
  },
  {
   "cell_type": "markdown",
   "id": "6df9a4de",
   "metadata": {},
   "source": [
    "### Predictions\n",
    "<br>\n",
    "I have trained my algorithm, now its time to make predictions using <b>test data set.</b>"
   ]
  },
  {
   "cell_type": "code",
   "execution_count": 123,
   "id": "02d24d5c",
   "metadata": {},
   "outputs": [
    {
     "data": {
      "text/plain": [
       "array([16.88414476, 33.73226078, 75.357018  , 26.79480124, 60.49103328])"
      ]
     },
     "execution_count": 123,
     "metadata": {},
     "output_type": "execute_result"
    }
   ],
   "source": [
    "#Model prediction\n",
    "scorepred = regg.predict(xte)\n",
    "\n",
    "#Predicted Output\n",
    "scorepred"
   ]
  },
  {
   "cell_type": "markdown",
   "id": "d37a5131",
   "metadata": {},
   "source": [
    "### Time to compare actual result to my predicted model    result"
   ]
  },
  {
   "cell_type": "code",
   "execution_count": 129,
   "id": "56d3911a",
   "metadata": {},
   "outputs": [
    {
     "data": {
      "text/html": [
       "<div>\n",
       "<style scoped>\n",
       "    .dataframe tbody tr th:only-of-type {\n",
       "        vertical-align: middle;\n",
       "    }\n",
       "\n",
       "    .dataframe tbody tr th {\n",
       "        vertical-align: top;\n",
       "    }\n",
       "\n",
       "    .dataframe thead th {\n",
       "        text-align: right;\n",
       "    }\n",
       "</style>\n",
       "<table border=\"1\" class=\"dataframe\">\n",
       "  <thead>\n",
       "    <tr style=\"text-align: right;\">\n",
       "      <th></th>\n",
       "      <th>Actual Value</th>\n",
       "      <th>Predicted Value</th>\n",
       "    </tr>\n",
       "  </thead>\n",
       "  <tbody>\n",
       "    <tr>\n",
       "      <th>0</th>\n",
       "      <td>20</td>\n",
       "      <td>16.884145</td>\n",
       "    </tr>\n",
       "    <tr>\n",
       "      <th>1</th>\n",
       "      <td>27</td>\n",
       "      <td>33.732261</td>\n",
       "    </tr>\n",
       "    <tr>\n",
       "      <th>2</th>\n",
       "      <td>69</td>\n",
       "      <td>75.357018</td>\n",
       "    </tr>\n",
       "    <tr>\n",
       "      <th>3</th>\n",
       "      <td>30</td>\n",
       "      <td>26.794801</td>\n",
       "    </tr>\n",
       "    <tr>\n",
       "      <th>4</th>\n",
       "      <td>62</td>\n",
       "      <td>60.491033</td>\n",
       "    </tr>\n",
       "  </tbody>\n",
       "</table>\n",
       "</div>"
      ],
      "text/plain": [
       "   Actual Value  Predicted Value\n",
       "0            20        16.884145\n",
       "1            27        33.732261\n",
       "2            69        75.357018\n",
       "3            30        26.794801\n",
       "4            62        60.491033"
      ]
     },
     "execution_count": 129,
     "metadata": {},
     "output_type": "execute_result"
    }
   ],
   "source": [
    "df = pd.DataFrame({'Actual Value' : ytest, 'Predicted Value' : scorepred})\n",
    "df"
   ]
  },
  {
   "cell_type": "code",
   "execution_count": 128,
   "id": "c1e986ab",
   "metadata": {},
   "outputs": [
    {
     "data": {
      "image/png": "[encoded data removed]",
      "text/plain": [
       "<Figure size 360x360 with 1 Axes>"
      ]
     },
     "metadata": {
      "needs_background": "light"
     },
     "output_type": "display_data"
    }
   ],
   "source": [
    "#Visual Disfference between actual value and Predicted value\n",
    "df.plot(kind = 'bar', figsize=(5,5))\n",
    "plt.grid(which= 'major', linewidth='0.5', color='Blue')\n",
    "plt.grid(which= 'major', linewidth='0.5', color='Green')\n",
    "plt.show()"
   ]
  },
  {
   "cell_type": "markdown",
   "id": "beb527b0",
   "metadata": {},
   "source": [
    "### (2)Testing model with given input"
   ]
  },
  {
   "cell_type": "code",
   "execution_count": 107,
   "id": "837f6fbc",
   "metadata": {},
   "outputs": [
    {
     "name": "stdout",
     "output_type": "stream",
     "text": [
      "No. of Hours : [9.25]\n",
      "Predicted Score : 93.69173248737538\n"
     ]
    }
   ],
   "source": [
    "hours = np.array([9.25])\n",
    "hrs = hours.reshape(1,-1)\n",
    "customtest = regg.predict(hrs)\n",
    "print('No. of Hours : {}' .format(hours))\n",
    "print('Predicted Score : {}'.format(customtest[0]))"
   ]
  },
  {
   "cell_type": "markdown",
   "id": "5465c6b2",
   "metadata": {},
   "source": [
    "### Evaluating the model\n",
    "<br>\n",
    "The final step is to evaluate the performance of algorithm. This step is particularly important to compare how well different algorithms perform on a particular dataset. Here different errors have been calculated to compare the model performance and predict the accuracy.\n",
    "\n",
    "<br>\n",
    "R-2 gives the score of model fit and in this case we have R-2 = 0.9454906892105355 which is actually a great score for this model."
   ]
  },
  {
   "cell_type": "code",
   "execution_count": 130,
   "id": "365343e8",
   "metadata": {},
   "outputs": [
    {
     "name": "stdout",
     "output_type": "stream",
     "text": [
      "Mean Absolute Error :  4.183859899002975\n",
      "Mean Absolute Error: 4.183859899002975\n",
      "Mean Squared Error: 21.5987693072174\n",
      "Root Mean Squared Error: 4.6474476121003665\n",
      "R-2: 0.9454906892105356\n"
     ]
    }
   ],
   "source": [
    "print('Mean Absolute Error : ', metrics.mean_absolute_error(ytest, scorepred))\n",
    "print('Mean Absolute Error:',metrics.mean_absolute_error(ytest, scorepred)) \n",
    "print('Mean Squared Error:', metrics.mean_squared_error(ytest, scorepred))\n",
    "print('Root Mean Squared Error:', np.sqrt(metrics.mean_squared_error(ytest, scorepred)))\n",
    "print('R-2:', metrics.r2_score(ytest, scorepred))"
   ]
  },
  {
   "cell_type": "markdown",
   "id": "89876c33",
   "metadata": {},
   "source": [
    "## Conclusion\n",
    "\n",
    "#### I was successfully able to carry-out Prediction using Supervised ML task and was able to evaluate the model's performance on various parameters.\n",
    "\n",
    "### Thank You"
   ]
  }
 ],
 "metadata": {
  "kernelspec": {
   "display_name": "Python 3",
   "language": "python",
   "name": "python3"
  },
  "language_info": {
   "codemirror_mode": {
    "name": "ipython",
    "version": 3
   },
   "file_extension": ".py",
   "mimetype": "text/x-python",
   "name": "python",
   "nbconvert_exporter": "python",
   "pygments_lexer": "ipython3",
   "version": "3.8.8"
  }
 },
 "nbformat": 4,
 "nbformat_minor": 5
}
